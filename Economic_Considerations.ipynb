{
  "nbformat": 4,
  "nbformat_minor": 0,
  "metadata": {
    "kernelspec": {
      "display_name": "Python 3",
      "language": "python",
      "name": "python3"
    },
    "language_info": {
      "codemirror_mode": {
        "name": "ipython",
        "version": 3
      },
      "file_extension": ".py",
      "mimetype": "text/x-python",
      "name": "python",
      "nbconvert_exporter": "python",
      "pygments_lexer": "ipython3",
      "version": "3.7.1"
    },
    "colab": {
      "name": "Economic Considerations",
      "provenance": [],
      "collapsed_sections": [],
      "toc_visible": true
    }
  },
  "cells": [
    {
      "cell_type": "code",
      "metadata": {
        "id": "fikXSmZ7g8zc",
        "colab": {
          "base_uri": "https://localhost:8080/"
        },
        "outputId": "df46be55-8b25-40f6-aaa0-9a04365b0fb6"
      },
      "source": [
        "!pip install pyomo"
      ],
      "execution_count": null,
      "outputs": [
        {
          "output_type": "stream",
          "text": [
            "Requirement already satisfied: pyomo in /usr/local/lib/python3.7/dist-packages (5.7.3)\n",
            "Requirement already satisfied: six>=1.4 in /usr/local/lib/python3.7/dist-packages (from pyomo) (1.15.0)\n",
            "Requirement already satisfied: ply in /usr/local/lib/python3.7/dist-packages (from pyomo) (3.11)\n",
            "Requirement already satisfied: PyUtilib>=6.0.0 in /usr/local/lib/python3.7/dist-packages (from pyomo) (6.0.0)\n",
            "Requirement already satisfied: nose in /usr/local/lib/python3.7/dist-packages (from PyUtilib>=6.0.0->pyomo) (1.3.7)\n"
          ],
          "name": "stdout"
        }
      ]
    },
    {
      "cell_type": "code",
      "metadata": {
        "id": "oVOvfGFVd2MA"
      },
      "source": [
        "import pandas as pd\n",
        "import numpy as np\n",
        "import networkx as nx\n",
        "import matplotlib.pyplot as plt\n",
        "from pyomo.environ import *"
      ],
      "execution_count": null,
      "outputs": []
    },
    {
      "cell_type": "markdown",
      "metadata": {
        "id": "t0y6xOPed2MC"
      },
      "source": [
        "#### Get network data from a csv file (data file attached)"
      ]
    },
    {
      "cell_type": "code",
      "metadata": {
        "id": "QQYtWuAgd2MD"
      },
      "source": [
        "df = pd.read_excel('714Project_Part1_data.xlsx')"
      ],
      "execution_count": null,
      "outputs": []
    },
    {
      "cell_type": "code",
      "metadata": {
        "id": "VMxyuAScd2ME"
      },
      "source": [
        "df.set_index('ID',inplace=True)"
      ],
      "execution_count": null,
      "outputs": []
    },
    {
      "cell_type": "code",
      "metadata": {
        "id": "iQwaZXDtd2ME",
        "colab": {
          "base_uri": "https://localhost:8080/",
          "height": 432
        },
        "outputId": "beae7376-03e6-4ccb-9ef2-dcde05f0f0be"
      },
      "source": [
        "df"
      ],
      "execution_count": null,
      "outputs": [
        {
          "output_type": "execute_result",
          "data": {
            "text/html": [
              "<div>\n",
              "<style scoped>\n",
              "    .dataframe tbody tr th:only-of-type {\n",
              "        vertical-align: middle;\n",
              "    }\n",
              "\n",
              "    .dataframe tbody tr th {\n",
              "        vertical-align: top;\n",
              "    }\n",
              "\n",
              "    .dataframe thead th {\n",
              "        text-align: right;\n",
              "    }\n",
              "</style>\n",
              "<table border=\"1\" class=\"dataframe\">\n",
              "  <thead>\n",
              "    <tr style=\"text-align: right;\">\n",
              "      <th></th>\n",
              "      <th>City</th>\n",
              "      <th>D</th>\n",
              "      <th>x</th>\n",
              "      <th>y</th>\n",
              "    </tr>\n",
              "    <tr>\n",
              "      <th>ID</th>\n",
              "      <th></th>\n",
              "      <th></th>\n",
              "      <th></th>\n",
              "      <th></th>\n",
              "    </tr>\n",
              "  </thead>\n",
              "  <tbody>\n",
              "    <tr>\n",
              "      <th>MU</th>\n",
              "      <td>Mumbai</td>\n",
              "      <td>20668000</td>\n",
              "      <td>8089.394286</td>\n",
              "      <td>2117.445990</td>\n",
              "    </tr>\n",
              "    <tr>\n",
              "      <th>DE</th>\n",
              "      <td>Delhi</td>\n",
              "      <td>31181000</td>\n",
              "      <td>8571.056031</td>\n",
              "      <td>3179.572800</td>\n",
              "    </tr>\n",
              "    <tr>\n",
              "      <th>HY</th>\n",
              "      <td>Hyderabad</td>\n",
              "      <td>10269000</td>\n",
              "      <td>8712.576924</td>\n",
              "      <td>1929.972540</td>\n",
              "    </tr>\n",
              "    <tr>\n",
              "      <th>PU</th>\n",
              "      <td>Pune</td>\n",
              "      <td>6808000</td>\n",
              "      <td>8198.044305</td>\n",
              "      <td>2055.356586</td>\n",
              "    </tr>\n",
              "    <tr>\n",
              "      <th>CH</th>\n",
              "      <td>Chennai</td>\n",
              "      <td>11235018</td>\n",
              "      <td>8906.375487</td>\n",
              "      <td>1450.485729</td>\n",
              "    </tr>\n",
              "    <tr>\n",
              "      <th>GH</th>\n",
              "      <td>Ghaziabad</td>\n",
              "      <td>2866384</td>\n",
              "      <td>8596.926801</td>\n",
              "      <td>3182.132016</td>\n",
              "    </tr>\n",
              "    <tr>\n",
              "      <th>AH</th>\n",
              "      <td>Ahmedabad</td>\n",
              "      <td>8253226</td>\n",
              "      <td>8056.937442</td>\n",
              "      <td>2556.758793</td>\n",
              "    </tr>\n",
              "    <tr>\n",
              "      <th>NS</th>\n",
              "      <td>Nasik</td>\n",
              "      <td>2123000</td>\n",
              "      <td>8190.668133</td>\n",
              "      <td>2219.717394</td>\n",
              "    </tr>\n",
              "    <tr>\n",
              "      <th>BG</th>\n",
              "      <td>Bangalore</td>\n",
              "      <td>12765000</td>\n",
              "      <td>8611.451373</td>\n",
              "      <td>1439.941062</td>\n",
              "    </tr>\n",
              "    <tr>\n",
              "      <th>KL</th>\n",
              "      <td>Kolkata</td>\n",
              "      <td>14974000</td>\n",
              "      <td>9808.392012</td>\n",
              "      <td>2505.563595</td>\n",
              "    </tr>\n",
              "    <tr>\n",
              "      <th>ID</th>\n",
              "      <td>Indore</td>\n",
              "      <td>3113000</td>\n",
              "      <td>8420.207697</td>\n",
              "      <td>2521.872048</td>\n",
              "    </tr>\n",
              "    <tr>\n",
              "      <th>NG</th>\n",
              "      <td>Nagpur</td>\n",
              "      <td>2940000</td>\n",
              "      <td>8778.863460</td>\n",
              "      <td>2347.276263</td>\n",
              "    </tr>\n",
              "  </tbody>\n",
              "</table>\n",
              "</div>"
            ],
            "text/plain": [
              "         City         D            x            y\n",
              "ID                                               \n",
              "MU     Mumbai  20668000  8089.394286  2117.445990\n",
              "DE      Delhi  31181000  8571.056031  3179.572800\n",
              "HY  Hyderabad  10269000  8712.576924  1929.972540\n",
              "PU       Pune   6808000  8198.044305  2055.356586\n",
              "CH    Chennai  11235018  8906.375487  1450.485729\n",
              "GH  Ghaziabad   2866384  8596.926801  3182.132016\n",
              "AH  Ahmedabad   8253226  8056.937442  2556.758793\n",
              "NS      Nasik   2123000  8190.668133  2219.717394\n",
              "BG  Bangalore  12765000  8611.451373  1439.941062\n",
              "KL    Kolkata  14974000  9808.392012  2505.563595\n",
              "ID     Indore   3113000  8420.207697  2521.872048\n",
              "NG     Nagpur   2940000  8778.863460  2347.276263"
            ]
          },
          "metadata": {
            "tags": []
          },
          "execution_count": 8
        }
      ]
    },
    {
      "cell_type": "markdown",
      "metadata": {
        "id": "1U6dblzsd2MH"
      },
      "source": [
        "#### Candidate locations \n",
        "One or more of these locations can be selected as distribution centers"
      ]
    },
    {
      "cell_type": "code",
      "metadata": {
        "id": "ZMmDtwxEd2MJ"
      },
      "source": [
        "candidates = ['HY','GH','AH','PU','NS']"
      ],
      "execution_count": null,
      "outputs": []
    },
    {
      "cell_type": "markdown",
      "metadata": {
        "id": "WXuryVBzd2MK"
      },
      "source": [
        "#### Create distance matrix"
      ]
    },
    {
      "cell_type": "code",
      "metadata": {
        "id": "Jna1yWfMd2MK"
      },
      "source": [
        "for c in candidates:\n",
        "    X = df.at[c,'x']\n",
        "    Y = df.at[c,'y']\n",
        "    df[c] = np.sqrt(np.abs((df.x -  X)**2 + (df.y - Y)**2))\n",
        "    "
      ],
      "execution_count": null,
      "outputs": []
    },
    {
      "cell_type": "code",
      "metadata": {
        "id": "2wWGsuKvd2ML",
        "colab": {
          "base_uri": "https://localhost:8080/"
        },
        "outputId": "8b7e2ce9-cba9-48fb-d937-1c8492738bcd"
      },
      "source": [
        "i = 'NS'\n",
        "j = 'DE'\n",
        "df.at[j,i]"
      ],
      "execution_count": null,
      "outputs": [
        {
          "output_type": "execute_result",
          "data": {
            "text/plain": [
              "1032.4811636888508"
            ]
          },
          "metadata": {
            "tags": []
          },
          "execution_count": 11
        }
      ]
    },
    {
      "cell_type": "code",
      "metadata": {
        "id": "D66-dhLzd2MM",
        "colab": {
          "base_uri": "https://localhost:8080/",
          "height": 432
        },
        "outputId": "5d4800d6-5d20-4a88-fe8e-8941b405e499"
      },
      "source": [
        "data = df\n",
        "data"
      ],
      "execution_count": null,
      "outputs": [
        {
          "output_type": "execute_result",
          "data": {
            "text/html": [
              "<div>\n",
              "<style scoped>\n",
              "    .dataframe tbody tr th:only-of-type {\n",
              "        vertical-align: middle;\n",
              "    }\n",
              "\n",
              "    .dataframe tbody tr th {\n",
              "        vertical-align: top;\n",
              "    }\n",
              "\n",
              "    .dataframe thead th {\n",
              "        text-align: right;\n",
              "    }\n",
              "</style>\n",
              "<table border=\"1\" class=\"dataframe\">\n",
              "  <thead>\n",
              "    <tr style=\"text-align: right;\">\n",
              "      <th></th>\n",
              "      <th>City</th>\n",
              "      <th>D</th>\n",
              "      <th>x</th>\n",
              "      <th>y</th>\n",
              "      <th>HY</th>\n",
              "      <th>GH</th>\n",
              "      <th>AH</th>\n",
              "      <th>PU</th>\n",
              "      <th>NS</th>\n",
              "    </tr>\n",
              "    <tr>\n",
              "      <th>ID</th>\n",
              "      <th></th>\n",
              "      <th></th>\n",
              "      <th></th>\n",
              "      <th></th>\n",
              "      <th></th>\n",
              "      <th></th>\n",
              "      <th></th>\n",
              "      <th></th>\n",
              "      <th></th>\n",
              "    </tr>\n",
              "  </thead>\n",
              "  <tbody>\n",
              "    <tr>\n",
              "      <th>MU</th>\n",
              "      <td>Mumbai</td>\n",
              "      <td>20668000</td>\n",
              "      <td>8089.394286</td>\n",
              "      <td>2117.445990</td>\n",
              "      <td>650.771000</td>\n",
              "      <td>1179.468350</td>\n",
              "      <td>440.510142</td>\n",
              "      <td>125.139605</td>\n",
              "      <td>143.929956</td>\n",
              "    </tr>\n",
              "    <tr>\n",
              "      <th>DE</th>\n",
              "      <td>Delhi</td>\n",
              "      <td>31181000</td>\n",
              "      <td>8571.056031</td>\n",
              "      <td>3179.572800</td>\n",
              "      <td>1257.588555</td>\n",
              "      <td>25.997045</td>\n",
              "      <td>807.598422</td>\n",
              "      <td>1184.482944</td>\n",
              "      <td>1032.481164</td>\n",
              "    </tr>\n",
              "    <tr>\n",
              "      <th>HY</th>\n",
              "      <td>Hyderabad</td>\n",
              "      <td>10269000</td>\n",
              "      <td>8712.576924</td>\n",
              "      <td>1929.972540</td>\n",
              "      <td>0.000000</td>\n",
              "      <td>1257.488888</td>\n",
              "      <td>907.041420</td>\n",
              "      <td>529.589440</td>\n",
              "      <td>596.942934</td>\n",
              "    </tr>\n",
              "    <tr>\n",
              "      <th>PU</th>\n",
              "      <td>Pune</td>\n",
              "      <td>6808000</td>\n",
              "      <td>8198.044305</td>\n",
              "      <td>2055.356586</td>\n",
              "      <td>529.589440</td>\n",
              "      <td>1195.294991</td>\n",
              "      <td>520.879372</td>\n",
              "      <td>0.000000</td>\n",
              "      <td>164.526238</td>\n",
              "    </tr>\n",
              "    <tr>\n",
              "      <th>CH</th>\n",
              "      <td>Chennai</td>\n",
              "      <td>11235018</td>\n",
              "      <td>8906.375487</td>\n",
              "      <td>1450.485729</td>\n",
              "      <td>517.170654</td>\n",
              "      <td>1759.078552</td>\n",
              "      <td>1394.770621</td>\n",
              "      <td>931.451457</td>\n",
              "      <td>1050.692329</td>\n",
              "    </tr>\n",
              "    <tr>\n",
              "      <th>GH</th>\n",
              "      <td>Ghaziabad</td>\n",
              "      <td>2866384</td>\n",
              "      <td>8596.926801</td>\n",
              "      <td>3182.132016</td>\n",
              "      <td>1257.488888</td>\n",
              "      <td>0.000000</td>\n",
              "      <td>826.244622</td>\n",
              "      <td>1195.294991</td>\n",
              "      <td>1044.647314</td>\n",
              "    </tr>\n",
              "    <tr>\n",
              "      <th>AH</th>\n",
              "      <td>Ahmedabad</td>\n",
              "      <td>8253226</td>\n",
              "      <td>8056.937442</td>\n",
              "      <td>2556.758793</td>\n",
              "      <td>907.041420</td>\n",
              "      <td>826.244622</td>\n",
              "      <td>0.000000</td>\n",
              "      <td>520.879372</td>\n",
              "      <td>362.602816</td>\n",
              "    </tr>\n",
              "    <tr>\n",
              "      <th>NS</th>\n",
              "      <td>Nasik</td>\n",
              "      <td>2123000</td>\n",
              "      <td>8190.668133</td>\n",
              "      <td>2219.717394</td>\n",
              "      <td>596.942934</td>\n",
              "      <td>1044.647314</td>\n",
              "      <td>362.602816</td>\n",
              "      <td>164.526238</td>\n",
              "      <td>0.000000</td>\n",
              "    </tr>\n",
              "    <tr>\n",
              "      <th>BG</th>\n",
              "      <td>Bangalore</td>\n",
              "      <td>12765000</td>\n",
              "      <td>8611.451373</td>\n",
              "      <td>1439.941062</td>\n",
              "      <td>500.357099</td>\n",
              "      <td>1742.251498</td>\n",
              "      <td>1246.903181</td>\n",
              "      <td>741.378224</td>\n",
              "      <td>886.064142</td>\n",
              "    </tr>\n",
              "    <tr>\n",
              "      <th>KL</th>\n",
              "      <td>Kolkata</td>\n",
              "      <td>14974000</td>\n",
              "      <td>9808.392012</td>\n",
              "      <td>2505.563595</td>\n",
              "      <td>1237.786641</td>\n",
              "      <td>1387.585235</td>\n",
              "      <td>1752.202631</td>\n",
              "      <td>1672.096316</td>\n",
              "      <td>1642.783796</td>\n",
              "    </tr>\n",
              "    <tr>\n",
              "      <th>ID</th>\n",
              "      <td>Indore</td>\n",
              "      <td>3113000</td>\n",
              "      <td>8420.207697</td>\n",
              "      <td>2521.872048</td>\n",
              "      <td>660.170275</td>\n",
              "      <td>683.500451</td>\n",
              "      <td>364.941589</td>\n",
              "      <td>516.713895</td>\n",
              "      <td>379.454670</td>\n",
              "    </tr>\n",
              "    <tr>\n",
              "      <th>NG</th>\n",
              "      <td>Nagpur</td>\n",
              "      <td>2940000</td>\n",
              "      <td>8778.863460</td>\n",
              "      <td>2347.276263</td>\n",
              "      <td>422.535563</td>\n",
              "      <td>854.450160</td>\n",
              "      <td>751.704800</td>\n",
              "      <td>650.052297</td>\n",
              "      <td>601.867932</td>\n",
              "    </tr>\n",
              "  </tbody>\n",
              "</table>\n",
              "</div>"
            ],
            "text/plain": [
              "         City         D            x  ...           AH           PU           NS\n",
              "ID                                    ...                                       \n",
              "MU     Mumbai  20668000  8089.394286  ...   440.510142   125.139605   143.929956\n",
              "DE      Delhi  31181000  8571.056031  ...   807.598422  1184.482944  1032.481164\n",
              "HY  Hyderabad  10269000  8712.576924  ...   907.041420   529.589440   596.942934\n",
              "PU       Pune   6808000  8198.044305  ...   520.879372     0.000000   164.526238\n",
              "CH    Chennai  11235018  8906.375487  ...  1394.770621   931.451457  1050.692329\n",
              "GH  Ghaziabad   2866384  8596.926801  ...   826.244622  1195.294991  1044.647314\n",
              "AH  Ahmedabad   8253226  8056.937442  ...     0.000000   520.879372   362.602816\n",
              "NS      Nasik   2123000  8190.668133  ...   362.602816   164.526238     0.000000\n",
              "BG  Bangalore  12765000  8611.451373  ...  1246.903181   741.378224   886.064142\n",
              "KL    Kolkata  14974000  9808.392012  ...  1752.202631  1672.096316  1642.783796\n",
              "ID     Indore   3113000  8420.207697  ...   364.941589   516.713895   379.454670\n",
              "NG     Nagpur   2940000  8778.863460  ...   751.704800   650.052297   601.867932\n",
              "\n",
              "[12 rows x 9 columns]"
            ]
          },
          "metadata": {
            "tags": []
          },
          "execution_count": 12
        }
      ]
    },
    {
      "cell_type": "code",
      "metadata": {
        "id": "NVE-zeh7d2MN"
      },
      "source": [
        "UnitCost = 35\n",
        "FixedCost = 8400000000\n",
        "Pmin = 1\n",
        "Pmax = 5\n",
        "S = data['D'].sum()\n",
        "D = data['D'].sum()"
      ],
      "execution_count": null,
      "outputs": []
    },
    {
      "cell_type": "code",
      "metadata": {
        "id": "GQNu51y6d2MO",
        "colab": {
          "base_uri": "https://localhost:8080/"
        },
        "outputId": "db168072-bbe4-4afe-cd94-b7258f1046a6"
      },
      "source": [
        "# Add distance in a dictionary\n",
        "Distance = {}\n",
        "for c in candidates:\n",
        "    for i, row in data.iterrows():\n",
        "        Distance[c,i] = data.at[i,c]\n",
        "\n",
        "print(Distance)\n",
        "    "
      ],
      "execution_count": null,
      "outputs": [
        {
          "output_type": "stream",
          "text": [
            "{('HY', 'MU'): 650.7710002447428, ('HY', 'DE'): 1257.5885547139753, ('HY', 'HY'): 0.0, ('HY', 'PU'): 529.5894400442013, ('HY', 'CH'): 517.1706535988039, ('HY', 'GH'): 1257.4888883352053, ('HY', 'AH'): 907.0414198409072, ('HY', 'NS'): 596.9429340754136, ('HY', 'BG'): 500.35709897623934, ('HY', 'KL'): 1237.7866414226887, ('HY', 'ID'): 660.1702753587293, ('HY', 'NG'): 422.5355631003622, ('GH', 'MU'): 1179.468349614307, ('GH', 'DE'): 25.997044580635173, ('GH', 'HY'): 1257.4888883352053, ('GH', 'PU'): 1195.294990898429, ('GH', 'CH'): 1759.078552125519, ('GH', 'GH'): 0.0, ('GH', 'AH'): 826.2446222993757, ('GH', 'NS'): 1044.647313673154, ('GH', 'BG'): 1742.2514983179706, ('GH', 'KL'): 1387.585235492836, ('GH', 'ID'): 683.5004513984783, ('GH', 'NG'): 854.4501601645817, ('AH', 'MU'): 440.51014245095075, ('AH', 'DE'): 807.5984217856958, ('AH', 'HY'): 907.0414198409072, ('AH', 'PU'): 520.8793718032722, ('AH', 'CH'): 1394.7706207206145, ('AH', 'GH'): 826.2446222993757, ('AH', 'AH'): 0.0, ('AH', 'NS'): 362.60281625383817, ('AH', 'BG'): 1246.9031814656103, ('AH', 'KL'): 1752.2026307114552, ('AH', 'ID'): 364.9415886747626, ('AH', 'NG'): 751.704799665758, ('PU', 'MU'): 125.13960491297529, ('PU', 'DE'): 1184.482943547096, ('PU', 'HY'): 529.5894400442013, ('PU', 'PU'): 0.0, ('PU', 'CH'): 931.4514571578228, ('PU', 'GH'): 1195.294990898429, ('PU', 'AH'): 520.8793718032722, ('PU', 'NS'): 164.52623839310982, ('PU', 'BG'): 741.378224021013, ('PU', 'KL'): 1672.0963155251814, ('PU', 'ID'): 516.7138947522309, ('PU', 'NG'): 650.0522968459536, ('NS', 'MU'): 143.92995575039487, ('NS', 'DE'): 1032.4811636888508, ('NS', 'HY'): 596.9429340754136, ('NS', 'PU'): 164.52623839310982, ('NS', 'CH'): 1050.6923293754228, ('NS', 'GH'): 1044.647313673154, ('NS', 'AH'): 362.60281625383817, ('NS', 'NS'): 0.0, ('NS', 'BG'): 886.0641415903655, ('NS', 'KL'): 1642.7837956690892, ('NS', 'ID'): 379.45466972376283, ('NS', 'NG'): 601.8679321621951}\n"
          ],
          "name": "stdout"
        }
      ]
    },
    {
      "cell_type": "code",
      "metadata": {
        "id": "IZ3WATn4d2MP"
      },
      "source": [
        "# Add demand to a dictionary\n",
        "Demand = {}\n",
        "for i, row in data.iterrows():\n",
        "    Demand[i] = data.at[i,'D']"
      ],
      "execution_count": null,
      "outputs": []
    },
    {
      "cell_type": "code",
      "metadata": {
        "id": "njQwWHrjkYNK",
        "colab": {
          "base_uri": "https://localhost:8080/"
        },
        "outputId": "13099c01-99e5-47f2-bcb1-e45e82d7b925"
      },
      "source": [
        "\n",
        "!apt-get install -y -qq glpk-utils"
      ],
      "execution_count": null,
      "outputs": [
        {
          "output_type": "stream",
          "text": [
            "Selecting previously unselected package libsuitesparseconfig5:amd64.\n",
            "(Reading database ... 160983 files and directories currently installed.)\n",
            "Preparing to unpack .../libsuitesparseconfig5_1%3a5.1.2-2_amd64.deb ...\n",
            "Unpacking libsuitesparseconfig5:amd64 (1:5.1.2-2) ...\n",
            "Selecting previously unselected package libamd2:amd64.\n",
            "Preparing to unpack .../libamd2_1%3a5.1.2-2_amd64.deb ...\n",
            "Unpacking libamd2:amd64 (1:5.1.2-2) ...\n",
            "Selecting previously unselected package libcolamd2:amd64.\n",
            "Preparing to unpack .../libcolamd2_1%3a5.1.2-2_amd64.deb ...\n",
            "Unpacking libcolamd2:amd64 (1:5.1.2-2) ...\n",
            "Selecting previously unselected package libglpk40:amd64.\n",
            "Preparing to unpack .../libglpk40_4.65-1_amd64.deb ...\n",
            "Unpacking libglpk40:amd64 (4.65-1) ...\n",
            "Selecting previously unselected package glpk-utils.\n",
            "Preparing to unpack .../glpk-utils_4.65-1_amd64.deb ...\n",
            "Unpacking glpk-utils (4.65-1) ...\n",
            "Setting up libsuitesparseconfig5:amd64 (1:5.1.2-2) ...\n",
            "Setting up libcolamd2:amd64 (1:5.1.2-2) ...\n",
            "Setting up libamd2:amd64 (1:5.1.2-2) ...\n",
            "Setting up libglpk40:amd64 (4.65-1) ...\n",
            "Setting up glpk-utils (4.65-1) ...\n",
            "Processing triggers for libc-bin (2.27-3ubuntu1.2) ...\n",
            "/sbin/ldconfig.real: /usr/local/lib/python3.7/dist-packages/ideep4py/lib/libmkldnn.so.0 is not a symbolic link\n",
            "\n",
            "Processing triggers for man-db (2.8.3-2ubuntu0.1) ...\n"
          ],
          "name": "stdout"
        }
      ]
    },
    {
      "cell_type": "markdown",
      "metadata": {
        "id": "-WxgBQP0d2MP"
      },
      "source": [
        "### Formulate a network facility location model\n",
        "This is mixed integer programming model"
      ]
    },
    {
      "cell_type": "code",
      "metadata": {
        "id": "r8WmTpbnd2MQ"
      },
      "source": [
        "model = ConcreteModel()\n",
        "model.dual = Suffix(direction=Suffix.IMPORT)\n",
        "\n",
        "model.i = Set(initialize = candidates, doc='Candidate locations for DC')\n",
        "model.j = Set(initialize = data.index.tolist(), doc='Customer locations')\n",
        "\n",
        "model.d = Param(model.i, model.j, initialize=Distance, doc='Distance in miles')\n",
        "model.f = Param(initialize=UnitCost, doc='Freight cost in dollars per mile')\n",
        "model.fcl = Param(initialize=FixedCost, doc='Fixed cost to operate a location')\n",
        "\n",
        "# Function to calculate cost \n",
        "def c_init(model, i, j):\n",
        "  return model.f * model.d[i,j]\n",
        "model.c = Param(model.i, model.j, initialize=c_init, doc='Transport cost in dollar per case')\n",
        "\n",
        "# Initialize flow on arc as a variable\n",
        "model.x = Var(model.i, model.j, bounds=(0.0,None),domain = NonNegativeReals, doc='Shipment quantities')\n",
        "\n",
        "# Initialize DC open or close \n",
        "model.y = Var(model.i, bounds=(0,1), domain = NonNegativeIntegers, doc = 'DC open decison' )\n",
        "\n",
        "# Function to get objective function rule\n",
        "def objective_rule(model):\n",
        "  return sum(model.c[i,j]*model.x[i,j] for i in model.i for j in model.j) + sum(model.fcl*model.y[i] for i in model.i)\n",
        "\n",
        "model.cost = Objective(rule=objective_rule, sense=minimize, doc='Total cost')\n",
        "\n",
        "#Define constraints\n",
        "def supply_rule(model, i):\n",
        "  return sum(model.x[i,j] for j in model.j) <= S\n",
        "model.supply = Constraint(model.i, rule=supply_rule, doc='Observe supply limit at plant i')\n",
        "\n",
        "def demand_rule(model, j):\n",
        "  return sum(model.x[i,j] for i in model.i) >= Demand[j] \n",
        "model.demand = Constraint(model.j, rule=demand_rule, doc='Satisfy demand at market j')\n",
        "\n",
        "def linking_constraint(model,i,j):\n",
        "    return (model.x[i,j] - D * model.y[i] <=0)\n",
        "model.linking = Constraint(model.i,model.j, rule=linking_constraint, doc='linking constraint')\n",
        "\n",
        "def node_min(model):\n",
        "    return sum(model.y[i] for i in model.i) >= Pmin\n",
        "model.node_min = Constraint(rule=node_min, doc='minimum number of nodes')\n",
        "\n",
        "def node_max(model):\n",
        "    return sum(model.y[i] for i in model.i) <= Pmax\n",
        "model.node_max = Constraint(rule=node_max, doc='maximum number of nodes')\n",
        "\n"
      ],
      "execution_count": null,
      "outputs": []
    },
    {
      "cell_type": "code",
      "metadata": {
        "id": "imeFx9jtmm2k"
      },
      "source": [
        "results=SolverFactory('glpk', executable='/usr/bin/glpsol').solve(model)"
      ],
      "execution_count": null,
      "outputs": []
    },
    {
      "cell_type": "code",
      "metadata": {
        "colab": {
          "base_uri": "https://localhost:8080/"
        },
        "id": "Dd_n1MIfnyWf",
        "outputId": "bea83f76-c7df-44d0-a13d-1d66a08794b5"
      },
      "source": [
        "print(results)"
      ],
      "execution_count": null,
      "outputs": [
        {
          "output_type": "stream",
          "text": [
            "\n",
            "Problem: \n",
            "- Name: unknown\n",
            "  Lower bound: 1319759492163.67\n",
            "  Upper bound: 1319759492163.67\n",
            "  Number of objectives: 1\n",
            "  Number of constraints: 80\n",
            "  Number of variables: 66\n",
            "  Number of nonzeros: 251\n",
            "  Sense: minimize\n",
            "Solver: \n",
            "- Status: ok\n",
            "  Termination condition: optimal\n",
            "  Statistics: \n",
            "    Branch and bound: \n",
            "      Number of bounded subproblems: 11\n",
            "      Number of created subproblems: 11\n",
            "  Error rc: 0\n",
            "  Time: 0.014768123626708984\n",
            "Solution: \n",
            "- number of solutions: 0\n",
            "  number of solutions displayed: 0\n",
            "\n"
          ],
          "name": "stdout"
        }
      ]
    },
    {
      "cell_type": "code",
      "metadata": {
        "id": "OEFBrVWkd2MR",
        "colab": {
          "base_uri": "https://localhost:8080/"
        },
        "outputId": "1ebca69c-bf9b-4964-f1a7-50f83549b350"
      },
      "source": [
        "\n",
        "r = []\n",
        "if 'ok' == str(results.Solver.Status):\n",
        "    print(\"Total Shipping Costs = \",model.cost())\n",
        "    for i in model.i:\n",
        "        for j in model.j:\n",
        "            if model.x[i,j]() > 0:\n",
        "                r.append((i,j,model.x[i,j](),model.d[i,j],model.c[i,j]))\n",
        "                \n",
        "    result_df = pd.DataFrame(r, columns=['Origin','Destination','Flow','Distance','Cost'])\n",
        "else:\n",
        "    print(\"No Valid Solution Found\")"
      ],
      "execution_count": null,
      "outputs": [
        {
          "output_type": "stream",
          "text": [
            "Total Shipping Costs =  1319759492163.6692\n"
          ],
          "name": "stdout"
        }
      ]
    },
    {
      "cell_type": "markdown",
      "metadata": {
        "id": "9oI3UvOpdgzA"
      },
      "source": [
        ""
      ]
    },
    {
      "cell_type": "markdown",
      "metadata": {
        "id": "vMp5rgt-d2MT"
      },
      "source": [
        "### Optimized results"
      ]
    },
    {
      "cell_type": "code",
      "metadata": {
        "id": "IV3vJ9Isd2MT",
        "colab": {
          "base_uri": "https://localhost:8080/"
        },
        "outputId": "e27ad7a0-e69e-4324-f2ed-5e16a47137eb"
      },
      "source": [
        "model.cost()"
      ],
      "execution_count": null,
      "outputs": [
        {
          "output_type": "execute_result",
          "data": {
            "text/plain": [
              "1319759492163.6692"
            ]
          },
          "metadata": {
            "tags": []
          },
          "execution_count": 21
        }
      ]
    },
    {
      "cell_type": "code",
      "metadata": {
        "id": "U-z1Zu5Kd2MU",
        "colab": {
          "base_uri": "https://localhost:8080/",
          "height": 402
        },
        "outputId": "ea46327f-6b01-44d9-ce88-a68309a75e4c"
      },
      "source": [
        "result_df\n"
      ],
      "execution_count": null,
      "outputs": [
        {
          "output_type": "execute_result",
          "data": {
            "text/html": [
              "<div>\n",
              "<style scoped>\n",
              "    .dataframe tbody tr th:only-of-type {\n",
              "        vertical-align: middle;\n",
              "    }\n",
              "\n",
              "    .dataframe tbody tr th {\n",
              "        vertical-align: top;\n",
              "    }\n",
              "\n",
              "    .dataframe thead th {\n",
              "        text-align: right;\n",
              "    }\n",
              "</style>\n",
              "<table border=\"1\" class=\"dataframe\">\n",
              "  <thead>\n",
              "    <tr style=\"text-align: right;\">\n",
              "      <th></th>\n",
              "      <th>Origin</th>\n",
              "      <th>Destination</th>\n",
              "      <th>Flow</th>\n",
              "      <th>Distance</th>\n",
              "      <th>Cost</th>\n",
              "    </tr>\n",
              "  </thead>\n",
              "  <tbody>\n",
              "    <tr>\n",
              "      <th>0</th>\n",
              "      <td>HY</td>\n",
              "      <td>HY</td>\n",
              "      <td>10269000.0</td>\n",
              "      <td>0.000000</td>\n",
              "      <td>0.000000</td>\n",
              "    </tr>\n",
              "    <tr>\n",
              "      <th>1</th>\n",
              "      <td>HY</td>\n",
              "      <td>CH</td>\n",
              "      <td>11235018.0</td>\n",
              "      <td>517.170654</td>\n",
              "      <td>18100.972876</td>\n",
              "    </tr>\n",
              "    <tr>\n",
              "      <th>2</th>\n",
              "      <td>HY</td>\n",
              "      <td>BG</td>\n",
              "      <td>12765000.0</td>\n",
              "      <td>500.357099</td>\n",
              "      <td>17512.498464</td>\n",
              "    </tr>\n",
              "    <tr>\n",
              "      <th>3</th>\n",
              "      <td>HY</td>\n",
              "      <td>KL</td>\n",
              "      <td>14974000.0</td>\n",
              "      <td>1237.786641</td>\n",
              "      <td>43322.532450</td>\n",
              "    </tr>\n",
              "    <tr>\n",
              "      <th>4</th>\n",
              "      <td>HY</td>\n",
              "      <td>NG</td>\n",
              "      <td>2940000.0</td>\n",
              "      <td>422.535563</td>\n",
              "      <td>14788.744709</td>\n",
              "    </tr>\n",
              "    <tr>\n",
              "      <th>5</th>\n",
              "      <td>GH</td>\n",
              "      <td>DE</td>\n",
              "      <td>31181000.0</td>\n",
              "      <td>25.997045</td>\n",
              "      <td>909.896560</td>\n",
              "    </tr>\n",
              "    <tr>\n",
              "      <th>6</th>\n",
              "      <td>GH</td>\n",
              "      <td>GH</td>\n",
              "      <td>2866384.0</td>\n",
              "      <td>0.000000</td>\n",
              "      <td>0.000000</td>\n",
              "    </tr>\n",
              "    <tr>\n",
              "      <th>7</th>\n",
              "      <td>AH</td>\n",
              "      <td>AH</td>\n",
              "      <td>124082628.0</td>\n",
              "      <td>0.000000</td>\n",
              "      <td>0.000000</td>\n",
              "    </tr>\n",
              "    <tr>\n",
              "      <th>8</th>\n",
              "      <td>AH</td>\n",
              "      <td>ID</td>\n",
              "      <td>3113000.0</td>\n",
              "      <td>364.941589</td>\n",
              "      <td>12772.955604</td>\n",
              "    </tr>\n",
              "    <tr>\n",
              "      <th>9</th>\n",
              "      <td>PU</td>\n",
              "      <td>MU</td>\n",
              "      <td>20668000.0</td>\n",
              "      <td>125.139605</td>\n",
              "      <td>4379.886172</td>\n",
              "    </tr>\n",
              "    <tr>\n",
              "      <th>10</th>\n",
              "      <td>PU</td>\n",
              "      <td>PU</td>\n",
              "      <td>6808000.0</td>\n",
              "      <td>0.000000</td>\n",
              "      <td>0.000000</td>\n",
              "    </tr>\n",
              "    <tr>\n",
              "      <th>11</th>\n",
              "      <td>NS</td>\n",
              "      <td>NS</td>\n",
              "      <td>127195628.0</td>\n",
              "      <td>0.000000</td>\n",
              "      <td>0.000000</td>\n",
              "    </tr>\n",
              "  </tbody>\n",
              "</table>\n",
              "</div>"
            ],
            "text/plain": [
              "   Origin Destination         Flow     Distance          Cost\n",
              "0      HY          HY   10269000.0     0.000000      0.000000\n",
              "1      HY          CH   11235018.0   517.170654  18100.972876\n",
              "2      HY          BG   12765000.0   500.357099  17512.498464\n",
              "3      HY          KL   14974000.0  1237.786641  43322.532450\n",
              "4      HY          NG    2940000.0   422.535563  14788.744709\n",
              "5      GH          DE   31181000.0    25.997045    909.896560\n",
              "6      GH          GH    2866384.0     0.000000      0.000000\n",
              "7      AH          AH  124082628.0     0.000000      0.000000\n",
              "8      AH          ID    3113000.0   364.941589  12772.955604\n",
              "9      PU          MU   20668000.0   125.139605   4379.886172\n",
              "10     PU          PU    6808000.0     0.000000      0.000000\n",
              "11     NS          NS  127195628.0     0.000000      0.000000"
            ]
          },
          "metadata": {
            "tags": []
          },
          "execution_count": 22
        }
      ]
    },
    {
      "cell_type": "markdown",
      "metadata": {
        "id": "SSwDZnFgd2MV"
      },
      "source": [
        "### Visualize the network"
      ]
    },
    {
      "cell_type": "code",
      "metadata": {
        "id": "cTun-lXed2MV"
      },
      "source": [
        "def draw_graph(flow, regions, dcs,distance):\n",
        "    # create networkx graph\n",
        "    G=nx.DiGraph()\n",
        "    \n",
        "    # add nodes\n",
        "    G.add_nodes_from(regions, s=\"o\")\n",
        "    G.add_nodes_from(dcs, s=\"^\")\n",
        "    \n",
        "    market_color = []\n",
        "    dc_color = []\n",
        "\n",
        "    for j in regions:\n",
        "        market_color.append('blue')\n",
        "        \n",
        "    for k in dcs:\n",
        "        dc_color.append('red')\n",
        "    \n",
        "    # add edges\n",
        "    G.add_edges_from(flow)\n",
        "    graph_pos = nx.kamada_kawai_layout(G,dist=distance)\n",
        "    \n",
        "    nodeShapes = set((aShape[1][\"s\"] for aShape in G.nodes(data = True)))\n",
        "    \n",
        "    #For each node class...\n",
        "    for aShape in nodeShapes:\n",
        "        if aShape == 'o':\n",
        "            color_map = market_color\n",
        "        else:\n",
        "            color_map = dc_color\n",
        "            \n",
        "        nx.draw_networkx_nodes(G,graph_pos,node_shape = aShape, nodelist = [sNode[0] for sNode in filter(lambda x: x[1][\"s\"]==aShape,G.nodes(data = True))],node_size=1000, node_color=color_map, alpha=0.3)\n",
        "    \n",
        "    nx.draw_networkx_edges(G, graph_pos, width=2, alpha=0.3, edge_color='green')\n",
        "    nx.draw_networkx_labels(G, graph_pos, font_size=12, font_family='sans-serif')\n",
        "    \n",
        "    plt.axis('off')\n",
        "    plt.show()"
      ],
      "execution_count": null,
      "outputs": []
    },
    {
      "cell_type": "code",
      "metadata": {
        "id": "2U54siacd2MW"
      },
      "source": [
        "flow = result_df[['Origin','Destination']].values.tolist()\n",
        "dcs = result_df['Origin'].drop_duplicates().values.tolist()\n",
        "reg = Demand.keys()\n",
        "distance = result_df['Distance'].to_dict()\n",
        "k = set(reg).difference(dcs)\n",
        "regions = k"
      ],
      "execution_count": null,
      "outputs": []
    },
    {
      "cell_type": "code",
      "metadata": {
        "id": "RQOGJKZ-d2MX"
      },
      "source": [
        "pos = {}\n",
        "for i, row in data.iterrows():\n",
        "    x = data.at[i,'x']\n",
        "    y = data.at[i,'y']\n",
        "    pos[i] = x,y"
      ],
      "execution_count": null,
      "outputs": []
    },
    {
      "cell_type": "code",
      "metadata": {
        "id": "0vyJ06d_d2MY",
        "colab": {
          "base_uri": "https://localhost:8080/",
          "height": 248
        },
        "outputId": "e631fae1-59fb-40a7-8d26-c3dd745af008"
      },
      "source": [
        "draw_graph(flow,regions,dcs,pos)"
      ],
      "execution_count": null,
      "outputs": [
        {
          "output_type": "display_data",
          "data": {
            "image/png": "[encoded data removed]",
            "text/plain": [
              "<Figure size 432x288 with 1 Axes>"
            ]
          },
          "metadata": {
            "tags": []
          }
        }
      ]
    },
    {
      "cell_type": "code",
      "metadata": {
        "id": "1QpkdR1Dd2MZ"
      },
      "source": [
        ""
      ],
      "execution_count": null,
      "outputs": []
    }
  ]
}